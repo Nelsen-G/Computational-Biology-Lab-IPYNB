{
 "cells": [
  {
   "cell_type": "code",
   "execution_count": 1,
   "metadata": {},
   "outputs": [
    {
     "name": "stdout",
     "output_type": "stream",
     "text": [
      "Requirement already satisfied: Biopython in c:\\users\\ficop\\appdata\\local\\programs\\python\\python310\\lib\\site-packages (1.81)\n",
      "Requirement already satisfied: numpy in c:\\users\\ficop\\appdata\\local\\programs\\python\\python310\\lib\\site-packages (from Biopython) (1.24.3)\n",
      "Note: you may need to restart the kernel to use updated packages.\n"
     ]
    },
    {
     "name": "stderr",
     "output_type": "stream",
     "text": [
      "\n",
      "[notice] A new release of pip available: 22.2.1 -> 23.1.2\n",
      "[notice] To update, run: python.exe -m pip install --upgrade pip\n"
     ]
    }
   ],
   "source": [
    "%pip install Biopython"
   ]
  },
  {
   "cell_type": "code",
   "execution_count": 2,
   "metadata": {},
   "outputs": [],
   "source": [
    "import Bio\n",
    "from Bio.Seq import Seq"
   ]
  },
  {
   "cell_type": "code",
   "execution_count": 3,
   "metadata": {},
   "outputs": [],
   "source": [
    "seqA = Seq('AGCTTGCAGCGTCCGTTAGCTCGAGTCCAGGACGTTAGTCCTGCAGTC')\n",
    "seqB = Seq('CAGTAAGTTGCCGTTAGCGCGTAGTGCCAGTAAGCGGCTCGTTAGTGG')"
   ]
  },
  {
   "cell_type": "code",
   "execution_count": 4,
   "metadata": {},
   "outputs": [
    {
     "name": "stdout",
     "output_type": "stream",
     "text": [
      "14831.413499999997\n",
      "14975.510499999997\n"
     ]
    }
   ],
   "source": [
    "# •\tDetermine the molecular weight of both sequence.\n",
    "from Bio.SeqUtils import molecular_weight\n",
    "\n",
    "print(molecular_weight(seqA))\n",
    "print(molecular_weight(seqB))"
   ]
  },
  {
   "cell_type": "code",
   "execution_count": 5,
   "metadata": {},
   "outputs": [
    {
     "name": "stdout",
     "output_type": "stream",
     "text": [
      "152.0\n",
      "150.0\n"
     ]
    }
   ],
   "source": [
    "# •\tRefer to the Wallace rule to calculate the melting point of sequence A and sequence B\n",
    "\n",
    "from Bio.SeqUtils import MeltingTemp as MT\n",
    "\n",
    "print(MT.Tm_Wallace(seqA))\n",
    "print(MT.Tm_Wallace(seqB))"
   ]
  },
  {
   "cell_type": "code",
   "execution_count": 34,
   "metadata": {},
   "outputs": [
    {
     "name": "stdout",
     "output_type": "stream",
     "text": [
      "58.333333333333336\n",
      "56.25\n"
     ]
    },
    {
     "name": "stderr",
     "output_type": "stream",
     "text": [
      "c:\\Users\\ficop\\AppData\\Local\\Programs\\Python\\Python310\\lib\\site-packages\\Bio\\SeqUtils\\__init__.py:144: BiopythonDeprecationWarning: GC is deprecated; please use gc_fraction instead.\n",
      "  warnings.warn(\n"
     ]
    }
   ],
   "source": [
    "# •\tCalculate the GC content of sequence A and sequence B.\n",
    "from Bio.SeqUtils import GC\n",
    "\n",
    "GC_A = GC(seqA)\n",
    "GC_B = GC(seqB)\n",
    "\n",
    "print(GC_A)\n",
    "print(GC_B)"
   ]
  },
  {
   "cell_type": "code",
   "execution_count": 35,
   "metadata": {},
   "outputs": [
    {
     "name": "stdout",
     "output_type": "stream",
     "text": [
      "41.66666666666667\n",
      "43.75\n"
     ]
    }
   ],
   "source": [
    "# •\tCalculate the AT content of sequence A and sequence B.\n",
    "def AT(seq):\n",
    "    return len([seq for seq in seq.upper() if seq in 'AT']) / len(seq) * 100\n",
    "\n",
    "AT_A = AT(seqA)\n",
    "AT_B = AT(seqB)\n",
    "\n",
    "print(AT_A)\n",
    "print(AT_B)"
   ]
  },
  {
   "cell_type": "code",
   "execution_count": 36,
   "metadata": {},
   "outputs": [
    {
     "name": "stdout",
     "output_type": "stream",
     "text": [
      "Requirement already satisfied: matplotlib in c:\\users\\ficop\\appdata\\local\\programs\\python\\python310\\lib\\site-packages (3.7.1)\n",
      "Requirement already satisfied: kiwisolver>=1.0.1 in c:\\users\\ficop\\appdata\\local\\programs\\python\\python310\\lib\\site-packages (from matplotlib) (1.4.4)\n",
      "Requirement already satisfied: pillow>=6.2.0 in c:\\users\\ficop\\appdata\\local\\programs\\python\\python310\\lib\\site-packages (from matplotlib) (9.5.0)\n",
      "Requirement already satisfied: numpy>=1.20 in c:\\users\\ficop\\appdata\\local\\programs\\python\\python310\\lib\\site-packages (from matplotlib) (1.24.3)\n",
      "Requirement already satisfied: python-dateutil>=2.7 in c:\\users\\ficop\\appdata\\roaming\\python\\python310\\site-packages (from matplotlib) (2.8.2)\n",
      "Requirement already satisfied: contourpy>=1.0.1 in c:\\users\\ficop\\appdata\\local\\programs\\python\\python310\\lib\\site-packages (from matplotlib) (1.0.7)\n",
      "Requirement already satisfied: fonttools>=4.22.0 in c:\\users\\ficop\\appdata\\local\\programs\\python\\python310\\lib\\site-packages (from matplotlib) (4.39.4)\n",
      "Requirement already satisfied: packaging>=20.0 in c:\\users\\ficop\\appdata\\roaming\\python\\python310\\site-packages (from matplotlib) (23.1)\n",
      "Requirement already satisfied: pyparsing>=2.3.1 in c:\\users\\ficop\\appdata\\local\\programs\\python\\python310\\lib\\site-packages (from matplotlib) (3.0.9)\n",
      "Requirement already satisfied: cycler>=0.10 in c:\\users\\ficop\\appdata\\local\\programs\\python\\python310\\lib\\site-packages (from matplotlib) (0.11.0)\n",
      "Requirement already satisfied: six>=1.5 in c:\\users\\ficop\\appdata\\roaming\\python\\python310\\site-packages (from python-dateutil>=2.7->matplotlib) (1.16.0)\n",
      "Note: you may need to restart the kernel to use updated packages.\n"
     ]
    },
    {
     "name": "stderr",
     "output_type": "stream",
     "text": [
      "\n",
      "[notice] A new release of pip available: 22.2.1 -> 23.1.2\n",
      "[notice] To update, run: python.exe -m pip install --upgrade pip\n"
     ]
    }
   ],
   "source": [
    "%pip install matplotlib"
   ]
  },
  {
   "cell_type": "code",
   "execution_count": 40,
   "metadata": {},
   "outputs": [
    {
     "data": {
      "image/png": "[encoded data removed]",
      "text/plain": [
       "<Figure size 640x480 with 1 Axes>"
      ]
     },
     "metadata": {},
     "output_type": "display_data"
    }
   ],
   "source": [
    "# •\tPlot the GC and AT content of sequence A and sequence B using Matplotlib library.\n",
    "from matplotlib import pyplot as plt\n",
    "\n",
    "labels = ['GC content', 'AT content']\n",
    "A_Values = [GC_A, AT_A]\n",
    "B_Values = [GC_B, AT_B]\n",
    "\n",
    "plt.bar(labels, A_Values, label=\"Sequence A\")\n",
    "plt.bar(labels, B_Values, label=\"Sequence B\")\n",
    "plt.legend()\n",
    "plt.show()"
   ]
  }
 ],
 "metadata": {
  "kernelspec": {
   "display_name": "Python 3",
   "language": "python",
   "name": "python3"
  },
  "language_info": {
   "codemirror_mode": {
    "name": "ipython",
    "version": 3
   },
   "file_extension": ".py",
   "mimetype": "text/x-python",
   "name": "python",
   "nbconvert_exporter": "python",
   "pygments_lexer": "ipython3",
   "version": "3.10.6"
  },
  "orig_nbformat": 4
 },
 "nbformat": 4,
 "nbformat_minor": 2
}
