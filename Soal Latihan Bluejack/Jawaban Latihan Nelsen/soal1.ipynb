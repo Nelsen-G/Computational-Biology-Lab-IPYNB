{
 "cells": [
  {
   "cell_type": "code",
   "execution_count": 3,
   "metadata": {},
   "outputs": [
    {
     "name": "stdout",
     "output_type": "stream",
     "text": [
      "Requirement already satisfied: Bio in c:\\users\\nelsen\\appdata\\local\\programs\\python\\python39\\lib\\site-packages (1.5.9)\n",
      "Requirement already satisfied: pooch in c:\\users\\nelsen\\appdata\\local\\programs\\python\\python39\\lib\\site-packages (from Bio) (1.7.0)\n",
      "Requirement already satisfied: biopython>=1.80 in c:\\users\\nelsen\\appdata\\local\\programs\\python\\python39\\lib\\site-packages (from Bio) (1.81)\n",
      "Requirement already satisfied: tqdm in c:\\users\\nelsen\\appdata\\local\\programs\\python\\python39\\lib\\site-packages (from Bio) (4.61.1)\n",
      "Requirement already satisfied: pandas in c:\\users\\nelsen\\appdata\\local\\programs\\python\\python39\\lib\\site-packages (from Bio) (2.0.2)\n",
      "Requirement already satisfied: mygene in c:\\users\\nelsen\\appdata\\local\\programs\\python\\python39\\lib\\site-packages (from Bio) (3.2.2)\n",
      "Requirement already satisfied: gprofiler-official in c:\\users\\nelsen\\appdata\\local\\programs\\python\\python39\\lib\\site-packages (from Bio) (1.0.0)\n",
      "Requirement already satisfied: requests in c:\\users\\nelsen\\appdata\\local\\programs\\python\\python39\\lib\\site-packages (from Bio) (2.25.1)\n",
      "Requirement already satisfied: numpy in c:\\users\\nelsen\\appdata\\local\\programs\\python\\python39\\lib\\site-packages (from biopython>=1.80->Bio) (1.24.3)\n",
      "Requirement already satisfied: biothings-client>=0.2.6 in c:\\users\\nelsen\\appdata\\local\\programs\\python\\python39\\lib\\site-packages (from mygene->Bio) (0.3.0)\n",
      "Requirement already satisfied: chardet<5,>=3.0.2 in c:\\users\\nelsen\\appdata\\local\\programs\\python\\python39\\lib\\site-packages (from requests->Bio) (4.0.0)\n",
      "Requirement already satisfied: urllib3<1.27,>=1.21.1 in c:\\users\\nelsen\\appdata\\local\\programs\\python\\python39\\lib\\site-packages (from requests->Bio) (1.26.6)\n",
      "Requirement already satisfied: certifi>=2017.4.17 in c:\\users\\nelsen\\appdata\\local\\programs\\python\\python39\\lib\\site-packages (from requests->Bio) (2021.5.30)\n",
      "Requirement already satisfied: idna<3,>=2.5 in c:\\users\\nelsen\\appdata\\local\\programs\\python\\python39\\lib\\site-packages (from requests->Bio) (2.10)\n",
      "Requirement already satisfied: python-dateutil>=2.8.2 in c:\\users\\nelsen\\appdata\\roaming\\python\\python39\\site-packages (from pandas->Bio) (2.8.2)\n",
      "Requirement already satisfied: tzdata>=2022.1 in c:\\users\\nelsen\\appdata\\local\\programs\\python\\python39\\lib\\site-packages (from pandas->Bio) (2022.5)\n",
      "Requirement already satisfied: pytz>=2020.1 in c:\\users\\nelsen\\appdata\\local\\programs\\python\\python39\\lib\\site-packages (from pandas->Bio) (2021.1)\n",
      "Requirement already satisfied: six>=1.5 in c:\\users\\nelsen\\appdata\\local\\programs\\python\\python39\\lib\\site-packages (from python-dateutil>=2.8.2->pandas->Bio) (1.16.0)\n",
      "Requirement already satisfied: packaging>=20.0 in c:\\users\\nelsen\\appdata\\roaming\\python\\python39\\site-packages (from pooch->Bio) (23.1)\n",
      "Requirement already satisfied: platformdirs>=2.5.0 in c:\\users\\nelsen\\appdata\\roaming\\python\\python39\\site-packages (from pooch->Bio) (3.5.1)\n",
      "Note: you may need to restart the kernel to use updated packages.\n"
     ]
    },
    {
     "name": "stderr",
     "output_type": "stream",
     "text": [
      "WARNING: You are using pip version 21.1.3; however, version 23.1.2 is available.\n",
      "You should consider upgrading via the 'c:\\Users\\Nelsen\\AppData\\Local\\Programs\\Python\\Python39\\python.exe -m pip install --upgrade pip' command.\n"
     ]
    }
   ],
   "source": [
    "%pip install Bio"
   ]
  },
  {
   "cell_type": "code",
   "execution_count": 4,
   "metadata": {},
   "outputs": [],
   "source": [
    "import Bio"
   ]
  },
  {
   "cell_type": "code",
   "execution_count": 5,
   "metadata": {},
   "outputs": [],
   "source": [
    "from Bio.Seq import Seq"
   ]
  },
  {
   "cell_type": "code",
   "execution_count": 6,
   "metadata": {},
   "outputs": [
    {
     "name": "stdout",
     "output_type": "stream",
     "text": [
      "AGCTTGCAGCGTCCGTTAGCTCGAGTCCAGGACGTTAGTCCTGCAGTC\n",
      "CAGTAAGTTGCCGTTAGCGCGTAGTGCCAGTAAGCGGCTCGTTAGTGG\n"
     ]
    }
   ],
   "source": [
    "seq_a = Seq('AGCTTGCAGCGTCCGTTAGCTCGAGTCCAGGACGTTAGTCCTGCAGTC')\n",
    "seq_b = Seq('CAGTAAGTTGCCGTTAGCGCGTAGTGCCAGTAAGCGGCTCGTTAGTGG')\n",
    "\n",
    "\n",
    "print(seq_a)\n",
    "print(seq_b)"
   ]
  },
  {
   "cell_type": "code",
   "execution_count": 7,
   "metadata": {},
   "outputs": [
    {
     "name": "stdout",
     "output_type": "stream",
     "text": [
      "48\n",
      "48\n"
     ]
    }
   ],
   "source": [
    "print(len(seq_a))\n",
    "print(len(seq_b))"
   ]
  },
  {
   "cell_type": "code",
   "execution_count": 8,
   "metadata": {},
   "outputs": [
    {
     "data": {
      "text/plain": [
       "Seq('CAGTC')"
      ]
     },
     "execution_count": 8,
     "metadata": {},
     "output_type": "execute_result"
    }
   ],
   "source": [
    "sub_seq = Seq(\"CAGTC\")\n",
    "sub_seq"
   ]
  },
  {
   "cell_type": "code",
   "execution_count": 9,
   "metadata": {},
   "outputs": [
    {
     "data": {
      "text/plain": [
       "43"
      ]
     },
     "execution_count": 9,
     "metadata": {},
     "output_type": "execute_result"
    }
   ],
   "source": [
    "seq_a.find(sub_seq)"
   ]
  },
  {
   "cell_type": "code",
   "execution_count": 10,
   "metadata": {},
   "outputs": [
    {
     "data": {
      "text/plain": [
       "-1"
      ]
     },
     "execution_count": 10,
     "metadata": {},
     "output_type": "execute_result"
    }
   ],
   "source": [
    "seq_b.find(sub_seq)"
   ]
  },
  {
   "cell_type": "code",
   "execution_count": 11,
   "metadata": {},
   "outputs": [],
   "source": [
    "from Bio.SeqUtils import nt_search"
   ]
  },
  {
   "cell_type": "code",
   "execution_count": 12,
   "metadata": {},
   "outputs": [
    {
     "data": {
      "text/plain": [
       "['CAGTC', 43]"
      ]
     },
     "execution_count": 12,
     "metadata": {},
     "output_type": "execute_result"
    }
   ],
   "source": [
    "nt_search(str(seq_a), str(sub_seq))"
   ]
  },
  {
   "cell_type": "code",
   "execution_count": 13,
   "metadata": {},
   "outputs": [
    {
     "data": {
      "text/plain": [
       "['CAGTC']"
      ]
     },
     "execution_count": 13,
     "metadata": {},
     "output_type": "execute_result"
    }
   ],
   "source": [
    "nt_search(str(seq_b), str(sub_seq))"
   ]
  },
  {
   "cell_type": "code",
   "execution_count": 14,
   "metadata": {},
   "outputs": [
    {
     "data": {
      "text/plain": [
       "Seq('AGCTTGCAGCGTCCGTCGTTAGTGG')"
      ]
     },
     "execution_count": 14,
     "metadata": {},
     "output_type": "execute_result"
    }
   ],
   "source": [
    "seq_c = seq_a[:15] + seq_b[-10:]\n",
    "seq_c"
   ]
  },
  {
   "cell_type": "code",
   "execution_count": 15,
   "metadata": {},
   "outputs": [
    {
     "data": {
      "text/plain": [
       "Seq('GGTGATTGCTGCCTGCGACGTTCGA')"
      ]
     },
     "execution_count": 15,
     "metadata": {},
     "output_type": "execute_result"
    }
   ],
   "source": [
    "seq_c[::-1]"
   ]
  },
  {
   "cell_type": "code",
   "execution_count": 16,
   "metadata": {},
   "outputs": [
    {
     "data": {
      "text/plain": [
       "25"
      ]
     },
     "execution_count": 16,
     "metadata": {},
     "output_type": "execute_result"
    }
   ],
   "source": [
    "len(seq_c)"
   ]
  },
  {
   "cell_type": "code",
   "execution_count": 19,
   "metadata": {},
   "outputs": [
    {
     "name": "stdout",
     "output_type": "stream",
     "text": [
      "Requirement already satisfied: matplotlib in c:\\users\\nelsen\\appdata\\local\\programs\\python\\python39\\lib\\site-packages (3.7.1)Note: you may need to restart the kernel to use updated packages.\n",
      "\n",
      "Requirement already satisfied: packaging>=20.0 in c:\\users\\nelsen\\appdata\\roaming\\python\\python39\\site-packages (from matplotlib) (23.1)\n",
      "Requirement already satisfied: fonttools>=4.22.0 in c:\\users\\nelsen\\appdata\\local\\programs\\python\\python39\\lib\\site-packages (from matplotlib) (4.39.4)\n",
      "Requirement already satisfied: pillow>=6.2.0 in c:\\users\\nelsen\\appdata\\local\\programs\\python\\python39\\lib\\site-packages (from matplotlib) (9.5.0)\n",
      "Requirement already satisfied: contourpy>=1.0.1 in c:\\users\\nelsen\\appdata\\local\\programs\\python\\python39\\lib\\site-packages (from matplotlib) (1.0.7)\n",
      "Requirement already satisfied: cycler>=0.10 in c:\\users\\nelsen\\appdata\\local\\programs\\python\\python39\\lib\\site-packages (from matplotlib) (0.11.0)\n",
      "Requirement already satisfied: pyparsing>=2.3.1 in c:\\users\\nelsen\\appdata\\local\\programs\\python\\python39\\lib\\site-packages (from matplotlib) (3.0.9)\n",
      "Requirement already satisfied: numpy>=1.20 in c:\\users\\nelsen\\appdata\\local\\programs\\python\\python39\\lib\\site-packages (from matplotlib) (1.24.3)\n",
      "Requirement already satisfied: python-dateutil>=2.7 in c:\\users\\nelsen\\appdata\\roaming\\python\\python39\\site-packages (from matplotlib) (2.8.2)\n",
      "Requirement already satisfied: kiwisolver>=1.0.1 in c:\\users\\nelsen\\appdata\\local\\programs\\python\\python39\\lib\\site-packages (from matplotlib) (1.4.4)\n",
      "Requirement already satisfied: importlib-resources>=3.2.0 in c:\\users\\nelsen\\appdata\\local\\programs\\python\\python39\\lib\\site-packages (from matplotlib) (5.12.0)\n",
      "Requirement already satisfied: zipp>=3.1.0 in c:\\users\\nelsen\\appdata\\roaming\\python\\python39\\site-packages (from importlib-resources>=3.2.0->matplotlib) (3.15.0)\n",
      "Requirement already satisfied: six>=1.5 in c:\\users\\nelsen\\appdata\\local\\programs\\python\\python39\\lib\\site-packages (from python-dateutil>=2.7->matplotlib) (1.16.0)\n"
     ]
    },
    {
     "name": "stderr",
     "output_type": "stream",
     "text": [
      "WARNING: You are using pip version 21.1.3; however, version 23.1.2 is available.\n",
      "You should consider upgrading via the 'c:\\Users\\Nelsen\\AppData\\Local\\Programs\\Python\\Python39\\python.exe -m pip install --upgrade pip' command.\n"
     ]
    }
   ],
   "source": [
    "%pip install matplotlib"
   ]
  },
  {
   "cell_type": "code",
   "execution_count": 18,
   "metadata": {},
   "outputs": [],
   "source": [
    "from matplotlib import pyplot as plt\n",
    "from collections import Counter"
   ]
  },
  {
   "cell_type": "code",
   "execution_count": 20,
   "metadata": {},
   "outputs": [
    {
     "name": "stdout",
     "output_type": "stream",
     "text": [
      "Counter({'G': 14, 'C': 14, 'T': 12, 'A': 8})\n",
      "Counter({'G': 17, 'T': 12, 'C': 10, 'A': 9})\n",
      "Counter({'G': 9, 'T': 7, 'C': 6, 'A': 3})\n"
     ]
    }
   ],
   "source": [
    "seqAfreq = Counter(seq_a)\n",
    "seqBfreq = Counter(seq_b)\n",
    "seqCfreq = Counter(seq_c)\n",
    "\n",
    "\n",
    "print(seqAfreq)\n",
    "print(seqBfreq)\n",
    "print(seqCfreq)"
   ]
  },
  {
   "cell_type": "code",
   "execution_count": 22,
   "metadata": {},
   "outputs": [
    {
     "data": {
      "image/png": "[encoded data removed]",
      "text/plain": [
       "<Figure size 640x480 with 1 Axes>"
      ]
     },
     "metadata": {},
     "output_type": "display_data"
    }
   ],
   "source": [
    "plt.bar(seqAfreq.keys(), seqAfreq.values())\n",
    "plt.show()"
   ]
  },
  {
   "cell_type": "code",
   "execution_count": 18,
   "metadata": {},
   "outputs": [
    {
     "data": {
      "image/png": "[encoded data removed]",
      "text/plain": [
       "<Figure size 640x480 with 1 Axes>"
      ]
     },
     "metadata": {},
     "output_type": "display_data"
    }
   ],
   "source": [
    "plt.bar(seqBfreq.keys(), seqBfreq.values())\n",
    "plt.show()"
   ]
  },
  {
   "cell_type": "code",
   "execution_count": 19,
   "metadata": {},
   "outputs": [
    {
     "data": {
      "image/png": "[encoded data removed]",
      "text/plain": [
       "<Figure size 640x480 with 1 Axes>"
      ]
     },
     "metadata": {},
     "output_type": "display_data"
    }
   ],
   "source": [
    "plt.bar(seqCfreq.keys(), seqCfreq.values())\n",
    "plt.show()"
   ]
  }
 ],
 "metadata": {
  "kernelspec": {
   "display_name": "Python 3",
   "language": "python",
   "name": "python3"
  },
  "language_info": {
   "codemirror_mode": {
    "name": "ipython",
    "version": 3
   },
   "file_extension": ".py",
   "mimetype": "text/x-python",
   "name": "python",
   "nbconvert_exporter": "python",
   "pygments_lexer": "ipython3",
   "version": "3.9.6"
  },
  "orig_nbformat": 4
 },
 "nbformat": 4,
 "nbformat_minor": 2
}
