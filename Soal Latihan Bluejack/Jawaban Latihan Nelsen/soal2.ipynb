{
 "cells": [
  {
   "cell_type": "code",
   "execution_count": 1,
   "metadata": {},
   "outputs": [
    {
     "name": "stdout",
     "output_type": "stream",
     "text": [
      "Requirement already satisfied: Bio in c:\\users\\nelsen\\appdata\\local\\programs\\python\\python39\\lib\\site-packages (1.5.9)\n",
      "Requirement already satisfied: tqdm in c:\\users\\nelsen\\appdata\\local\\programs\\python\\python39\\lib\\site-packages (from Bio) (4.61.1)\n",
      "Requirement already satisfied: pandas in c:\\users\\nelsen\\appdata\\local\\programs\\python\\python39\\lib\\site-packages (from Bio) (2.0.2)\n",
      "Requirement already satisfied: biopython>=1.80 in c:\\users\\nelsen\\appdata\\local\\programs\\python\\python39\\lib\\site-packages (from Bio) (1.81)\n",
      "Requirement already satisfied: mygene in c:\\users\\nelsen\\appdata\\local\\programs\\python\\python39\\lib\\site-packages (from Bio) (3.2.2)\n",
      "Requirement already satisfied: requests in c:\\users\\nelsen\\appdata\\local\\programs\\python\\python39\\lib\\site-packages (from Bio) (2.25.1)\n",
      "Requirement already satisfied: pooch in c:\\users\\nelsen\\appdata\\local\\programs\\python\\python39\\lib\\site-packages (from Bio) (1.7.0)\n",
      "Requirement already satisfied: gprofiler-official in c:\\users\\nelsen\\appdata\\local\\programs\\python\\python39\\lib\\site-packages (from Bio) (1.0.0)\n",
      "Requirement already satisfied: numpy in c:\\users\\nelsen\\appdata\\local\\programs\\python\\python39\\lib\\site-packages (from biopython>=1.80->Bio) (1.24.3)\n",
      "Requirement already satisfied: biothings-client>=0.2.6 in c:\\users\\nelsen\\appdata\\local\\programs\\python\\python39\\lib\\site-packages (from mygene->Bio) (0.3.0)\n",
      "Requirement already satisfied: certifi>=2017.4.17 in c:\\users\\nelsen\\appdata\\local\\programs\\python\\python39\\lib\\site-packages (from requests->Bio) (2021.5.30)\n",
      "Requirement already satisfied: idna<3,>=2.5 in c:\\users\\nelsen\\appdata\\local\\programs\\python\\python39\\lib\\site-packages (from requests->Bio) (2.10)\n",
      "Requirement already satisfied: urllib3<1.27,>=1.21.1 in c:\\users\\nelsen\\appdata\\local\\programs\\python\\python39\\lib\\site-packages (from requests->Bio) (1.26.6)\n",
      "Requirement already satisfied: chardet<5,>=3.0.2 in c:\\users\\nelsen\\appdata\\local\\programs\\python\\python39\\lib\\site-packages (from requests->Bio) (4.0.0)\n",
      "Requirement already satisfied: tzdata>=2022.1 in c:\\users\\nelsen\\appdata\\local\\programs\\python\\python39\\lib\\site-packages (from pandas->Bio) (2022.5)\n",
      "Requirement already satisfied: pytz>=2020.1 in c:\\users\\nelsen\\appdata\\local\\programs\\python\\python39\\lib\\site-packages (from pandas->Bio) (2021.1)\n",
      "Requirement already satisfied: python-dateutil>=2.8.2 in c:\\users\\nelsen\\appdata\\roaming\\python\\python39\\site-packages (from pandas->Bio) (2.8.2)\n",
      "Requirement already satisfied: six>=1.5 in c:\\users\\nelsen\\appdata\\local\\programs\\python\\python39\\lib\\site-packages (from python-dateutil>=2.8.2->pandas->Bio) (1.16.0)\n",
      "Requirement already satisfied: packaging>=20.0 in c:\\users\\nelsen\\appdata\\roaming\\python\\python39\\site-packages (from pooch->Bio) (23.1)\n",
      "Requirement already satisfied: platformdirs>=2.5.0 in c:\\users\\nelsen\\appdata\\roaming\\python\\python39\\site-packages (from pooch->Bio) (3.5.1)\n",
      "Note: you may need to restart the kernel to use updated packages.\n"
     ]
    },
    {
     "name": "stderr",
     "output_type": "stream",
     "text": [
      "WARNING: You are using pip version 21.1.3; however, version 23.1.2 is available.\n",
      "You should consider upgrading via the 'c:\\Users\\Nelsen\\AppData\\Local\\Programs\\Python\\Python39\\python.exe -m pip install --upgrade pip' command.\n"
     ]
    }
   ],
   "source": [
    "%pip install Bio"
   ]
  },
  {
   "cell_type": "code",
   "execution_count": 2,
   "metadata": {},
   "outputs": [],
   "source": [
    "import Bio"
   ]
  },
  {
   "cell_type": "code",
   "execution_count": 3,
   "metadata": {},
   "outputs": [],
   "source": [
    "from Bio.Seq import Seq"
   ]
  },
  {
   "cell_type": "code",
   "execution_count": 4,
   "metadata": {},
   "outputs": [],
   "source": [
    "from Bio.SeqUtils import molecular_weight as mw, MeltingTemp as mt, GC"
   ]
  },
  {
   "cell_type": "code",
   "execution_count": 5,
   "metadata": {},
   "outputs": [
    {
     "name": "stdout",
     "output_type": "stream",
     "text": [
      "AGCTTGCAGCGTCCGTTAGCTCGAGTCCAGGACGTTAGTCCTGCAGTC\n",
      "CAGTAAGTTGCCGTTAGCGCGTAGTGCCAGTAAGCGGCTCGTTAGTGG\n"
     ]
    }
   ],
   "source": [
    "seq_a = Seq('AGCTTGCAGCGTCCGTTAGCTCGAGTCCAGGACGTTAGTCCTGCAGTC')\n",
    "seq_b = Seq('CAGTAAGTTGCCGTTAGCGCGTAGTGCCAGTAAGCGGCTCGTTAGTGG')\n",
    "\n",
    "print(seq_a)\n",
    "print(seq_b)"
   ]
  },
  {
   "cell_type": "code",
   "execution_count": 6,
   "metadata": {},
   "outputs": [
    {
     "data": {
      "text/plain": [
       "14831.413499999997"
      ]
     },
     "execution_count": 6,
     "metadata": {},
     "output_type": "execute_result"
    }
   ],
   "source": [
    "mw(seq_a)"
   ]
  },
  {
   "cell_type": "code",
   "execution_count": 7,
   "metadata": {},
   "outputs": [
    {
     "data": {
      "text/plain": [
       "14975.510499999997"
      ]
     },
     "execution_count": 7,
     "metadata": {},
     "output_type": "execute_result"
    }
   ],
   "source": [
    "mw(seq_b)"
   ]
  },
  {
   "cell_type": "code",
   "execution_count": 8,
   "metadata": {},
   "outputs": [],
   "source": [
    "tmwallace = mt.Tm_Wallace(seq_a)\n",
    "tmgc = mt.Tm_GC(seq_a)\n",
    "tmnn = mt.Tm_NN(seq_a)"
   ]
  },
  {
   "cell_type": "code",
   "execution_count": 9,
   "metadata": {},
   "outputs": [
    {
     "name": "stdout",
     "output_type": "stream",
     "text": [
      "152.0\n",
      "71.31956873864458\n",
      "73.44322665093074\n"
     ]
    }
   ],
   "source": [
    "print(tmwallace)\n",
    "print(tmgc)\n",
    "print(tmnn)"
   ]
  },
  {
   "cell_type": "code",
   "execution_count": 10,
   "metadata": {},
   "outputs": [],
   "source": [
    "import matplotlib"
   ]
  },
  {
   "cell_type": "code",
   "execution_count": 11,
   "metadata": {},
   "outputs": [],
   "source": [
    "from matplotlib import pyplot as plt"
   ]
  },
  {
   "cell_type": "code",
   "execution_count": 12,
   "metadata": {},
   "outputs": [
    {
     "data": {
      "image/png": "[encoded data removed]",
      "text/plain": [
       "<Figure size 640x480 with 1 Axes>"
      ]
     },
     "metadata": {},
     "output_type": "display_data"
    }
   ],
   "source": [
    "labels = ['TM Wallace', 'TM GC', 'TM NN']\n",
    "\n",
    "tm_values = [tmwallace, tmgc, tmnn]\n",
    "\n",
    "plt.bar(labels, tm_values)\n",
    "\n",
    "plt.show()"
   ]
  },
  {
   "cell_type": "code",
   "execution_count": 13,
   "metadata": {},
   "outputs": [
    {
     "name": "stderr",
     "output_type": "stream",
     "text": [
      "c:\\Users\\Nelsen\\AppData\\Local\\Programs\\Python\\Python39\\lib\\site-packages\\Bio\\SeqUtils\\__init__.py:144: BiopythonDeprecationWarning: GC is deprecated; please use gc_fraction instead.\n",
      "  warnings.warn(\n"
     ]
    },
    {
     "data": {
      "text/plain": [
       "58.333333333333336"
      ]
     },
     "execution_count": 13,
     "metadata": {},
     "output_type": "execute_result"
    }
   ],
   "source": [
    "GC(seq_a)"
   ]
  },
  {
   "cell_type": "code",
   "execution_count": 14,
   "metadata": {},
   "outputs": [
    {
     "name": "stderr",
     "output_type": "stream",
     "text": [
      "c:\\Users\\Nelsen\\AppData\\Local\\Programs\\Python\\Python39\\lib\\site-packages\\Bio\\SeqUtils\\__init__.py:144: BiopythonDeprecationWarning: GC is deprecated; please use gc_fraction instead.\n",
      "  warnings.warn(\n"
     ]
    },
    {
     "data": {
      "text/plain": [
       "56.25"
      ]
     },
     "execution_count": 14,
     "metadata": {},
     "output_type": "execute_result"
    }
   ],
   "source": [
    "GC(seq_b)"
   ]
  },
  {
   "cell_type": "code",
   "execution_count": 17,
   "metadata": {},
   "outputs": [],
   "source": [
    "def AT (seq):\n",
    "    return (seq.count('A') + seq.count('T')) / len(seq) * 100\n",
    "\n",
    "\n",
    "\n"
   ]
  },
  {
   "cell_type": "code",
   "execution_count": 18,
   "metadata": {},
   "outputs": [
    {
     "data": {
      "text/plain": [
       "41.66666666666667"
      ]
     },
     "execution_count": 18,
     "metadata": {},
     "output_type": "execute_result"
    }
   ],
   "source": [
    "AT(seq_a)"
   ]
  },
  {
   "cell_type": "code",
   "execution_count": 19,
   "metadata": {},
   "outputs": [
    {
     "data": {
      "text/plain": [
       "43.75"
      ]
     },
     "execution_count": 19,
     "metadata": {},
     "output_type": "execute_result"
    }
   ],
   "source": [
    "AT(seq_b)"
   ]
  },
  {
   "cell_type": "code",
   "execution_count": 22,
   "metadata": {},
   "outputs": [
    {
     "data": {
      "image/png": "[encoded data removed]",
      "text/plain": [
       "<Figure size 640x480 with 1 Axes>"
      ]
     },
     "metadata": {},
     "output_type": "display_data"
    }
   ],
   "source": [
    "labels = ['GC Content A', 'GC Content B', 'AT Content A', 'AT Content B']\n",
    "\n",
    "seq_values = [GC(seq_a), GC(seq_b), AT(seq_a), AT(seq_b)]\n",
    "\n",
    "plt.bar(labels , seq_values)\n",
    "\n",
    "\n",
    "plt.show()"
   ]
  },
  {
   "cell_type": "code",
   "execution_count": 18,
   "metadata": {},
   "outputs": [
    {
     "name": "stderr",
     "output_type": "stream",
     "text": [
      "c:\\Users\\Nelsen\\AppData\\Local\\Programs\\Python\\Python39\\lib\\site-packages\\Bio\\SeqUtils\\__init__.py:144: BiopythonDeprecationWarning: GC is deprecated; please use gc_fraction instead.\n",
      "  warnings.warn(\n"
     ]
    },
    {
     "data": {
      "image/png": "[encoded data removed]",
      "text/plain": [
       "<Figure size 640x480 with 1 Axes>"
      ]
     },
     "metadata": {},
     "output_type": "display_data"
    }
   ],
   "source": [
    "labels = ['GC Content', 'AT Content']\n",
    "\n",
    "seqa_values = [GC(seq_a), AT(seq_a)]\n",
    "\n",
    "seqb_values = [GC(seq_b), AT(seq_b)]\n",
    "\n",
    "plt.bar(labels , seqa_values, label = \"sequence a\")\n",
    "plt.bar(labels, seqb_values, label=\"sequence b\")\n",
    "\n",
    "plt.show()"
   ]
  }
 ],
 "metadata": {
  "kernelspec": {
   "display_name": "Python 3",
   "language": "python",
   "name": "python3"
  },
  "language_info": {
   "codemirror_mode": {
    "name": "ipython",
    "version": 3
   },
   "file_extension": ".py",
   "mimetype": "text/x-python",
   "name": "python",
   "nbconvert_exporter": "python",
   "pygments_lexer": "ipython3",
   "version": "3.9.6"
  },
  "orig_nbformat": 4
 },
 "nbformat": 4,
 "nbformat_minor": 2
}
