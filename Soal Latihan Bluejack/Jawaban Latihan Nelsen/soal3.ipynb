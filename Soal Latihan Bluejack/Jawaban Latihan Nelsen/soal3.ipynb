{
 "cells": [
  {
   "cell_type": "code",
   "execution_count": 1,
   "metadata": {},
   "outputs": [],
   "source": [
    "import Bio"
   ]
  },
  {
   "cell_type": "code",
   "execution_count": 2,
   "metadata": {},
   "outputs": [],
   "source": [
    "from Bio.Seq import Seq"
   ]
  },
  {
   "cell_type": "code",
   "execution_count": 3,
   "metadata": {},
   "outputs": [],
   "source": [
    "seq_a = Seq('ATGCGTTTATGACGTATCTGAAGTCTACTAGGGTGATCTGACTAA')\n",
    "seq_b = Seq('GTGTTAGTGCGCTAGTGCTGACTAGGTACAGTAGCTAGTTACTAG')"
   ]
  },
  {
   "cell_type": "code",
   "execution_count": 4,
   "metadata": {},
   "outputs": [],
   "source": [
    "from Bio.Data import CodonTable"
   ]
  },
  {
   "cell_type": "code",
   "execution_count": 5,
   "metadata": {},
   "outputs": [
    {
     "data": {
      "text/plain": [
       "['AmbiguousCodonTable',\n",
       " 'AmbiguousForwardTable',\n",
       " 'CodonTable',\n",
       " 'IUPACData',\n",
       " 'NCBICodonTable',\n",
       " 'NCBICodonTableDNA',\n",
       " 'NCBICodonTableRNA',\n",
       " 'TranslationError',\n",
       " '__builtins__',\n",
       " '__cached__',\n",
       " '__doc__',\n",
       " '__file__',\n",
       " '__loader__',\n",
       " '__name__',\n",
       " '__package__',\n",
       " '__spec__',\n",
       " 'ambiguous_dna_by_id',\n",
       " 'ambiguous_dna_by_name',\n",
       " 'ambiguous_generic_by_id',\n",
       " 'ambiguous_generic_by_name',\n",
       " 'ambiguous_rna_by_id',\n",
       " 'ambiguous_rna_by_name',\n",
       " 'generic_by_id',\n",
       " 'generic_by_name',\n",
       " 'list_ambiguous_codons',\n",
       " 'list_possible_proteins',\n",
       " 'make_back_table',\n",
       " 'register_ncbi_table',\n",
       " 'standard_dna_table',\n",
       " 'standard_rna_table',\n",
       " 'unambiguous_dna_by_id',\n",
       " 'unambiguous_dna_by_name',\n",
       " 'unambiguous_rna_by_id',\n",
       " 'unambiguous_rna_by_name']"
      ]
     },
     "execution_count": 5,
     "metadata": {},
     "output_type": "execute_result"
    }
   ],
   "source": [
    "dir(CodonTable)"
   ]
  },
  {
   "cell_type": "code",
   "execution_count": 6,
   "metadata": {},
   "outputs": [
    {
     "name": "stdout",
     "output_type": "stream",
     "text": [
      "Table 1 Standard, SGC0\n",
      "\n",
      "  |  T      |  C      |  A      |  G      |\n",
      "--+---------+---------+---------+---------+--\n",
      "T | TTT F   | TCT S   | TAT Y   | TGT C   | T\n",
      "T | TTC F   | TCC S   | TAC Y   | TGC C   | C\n",
      "T | TTA L   | TCA S   | TAA Stop| TGA Stop| A\n",
      "T | TTG L(s)| TCG S   | TAG Stop| TGG W   | G\n",
      "--+---------+---------+---------+---------+--\n",
      "C | CTT L   | CCT P   | CAT H   | CGT R   | T\n",
      "C | CTC L   | CCC P   | CAC H   | CGC R   | C\n",
      "C | CTA L   | CCA P   | CAA Q   | CGA R   | A\n",
      "C | CTG L(s)| CCG P   | CAG Q   | CGG R   | G\n",
      "--+---------+---------+---------+---------+--\n",
      "A | ATT I   | ACT T   | AAT N   | AGT S   | T\n",
      "A | ATC I   | ACC T   | AAC N   | AGC S   | C\n",
      "A | ATA I   | ACA T   | AAA K   | AGA R   | A\n",
      "A | ATG M(s)| ACG T   | AAG K   | AGG R   | G\n",
      "--+---------+---------+---------+---------+--\n",
      "G | GTT V   | GCT A   | GAT D   | GGT G   | T\n",
      "G | GTC V   | GCC A   | GAC D   | GGC G   | C\n",
      "G | GTA V   | GCA A   | GAA E   | GGA G   | A\n",
      "G | GTG V   | GCG A   | GAG E   | GGG G   | G\n",
      "--+---------+---------+---------+---------+--\n"
     ]
    }
   ],
   "source": [
    "print(CodonTable.ambiguous_dna_by_name['Standard'])"
   ]
  },
  {
   "cell_type": "code",
   "execution_count": 7,
   "metadata": {},
   "outputs": [
    {
     "name": "stdout",
     "output_type": "stream",
     "text": [
      "AUGCGUUUAUGACGUAUCUGAAGUCUACUAGGGUGAUCUGACUAA\n",
      "GUGUUAGUGCGCUAGUGCUGACUAGGUACAGUAGCUAGUUACUAG\n"
     ]
    }
   ],
   "source": [
    "mRNA_A = seq_a.transcribe()\n",
    "mRNA_B = seq_b.transcribe()\n",
    "\n",
    "print(mRNA_A)\n",
    "print(mRNA_B)"
   ]
  },
  {
   "cell_type": "code",
   "execution_count": 8,
   "metadata": {},
   "outputs": [
    {
     "name": "stdout",
     "output_type": "stream",
     "text": [
      "AUGCGUUUAUGACGUAUCUGAAGUGGUACAGUAGCUAGUUACUAG\n"
     ]
    }
   ],
   "source": [
    "mRNA_C = mRNA_A[:24] + mRNA_B[-21:]\n",
    "print(mRNA_C)"
   ]
  },
  {
   "cell_type": "code",
   "execution_count": 9,
   "metadata": {},
   "outputs": [
    {
     "name": "stdout",
     "output_type": "stream",
     "text": [
      "MRL*RI*SLLG*SD*\n",
      "VLVR*C*LGTVASY*\n",
      "MRL*RI*SGTVASY*\n"
     ]
    }
   ],
   "source": [
    "protein_a = mRNA_A.translate()\n",
    "\n",
    "protein_b = mRNA_B.translate()\n",
    "\n",
    "protein_c = mRNA_C.translate()\n",
    "\n",
    "print(protein_a)\n",
    "\n",
    "print(protein_b)\n",
    "\n",
    "print(protein_c)"
   ]
  },
  {
   "cell_type": "code",
   "execution_count": 13,
   "metadata": {},
   "outputs": [
    {
     "name": "stdout",
     "output_type": "stream",
     "text": [
      "ATGCGTTTATGACGTATCTGAAGTGGTACAGTAGCTAGTTACTAG\n"
     ]
    }
   ],
   "source": [
    "seq_c = mRNA_C.back_transcribe()\n",
    "\n",
    "print(seq_c)"
   ]
  },
  {
   "cell_type": "code",
   "execution_count": 14,
   "metadata": {},
   "outputs": [
    {
     "name": "stdout",
     "output_type": "stream",
     "text": [
      "TACGCAAATACTGCATAGACTTCAGATGATCCCACTAGACTGATT\n",
      "CACAATCACGCGATCACGACTGATCCATGTCATCGATCAATGATC\n",
      "TACGCAAATACTGCATAGACTTCACCATGTCATCGATCAATGATC\n"
     ]
    }
   ],
   "source": [
    "print(seq_a.complement())\n",
    "\n",
    "print(seq_b.complement())\n",
    "\n",
    "print(seq_c.complement())\n",
    "\n"
   ]
  }
 ],
 "metadata": {
  "kernelspec": {
   "display_name": "Python 3",
   "language": "python",
   "name": "python3"
  },
  "language_info": {
   "codemirror_mode": {
    "name": "ipython",
    "version": 3
   },
   "file_extension": ".py",
   "mimetype": "text/x-python",
   "name": "python",
   "nbconvert_exporter": "python",
   "pygments_lexer": "ipython3",
   "version": "3.9.6"
  },
  "orig_nbformat": 4
 },
 "nbformat": 4,
 "nbformat_minor": 2
}
